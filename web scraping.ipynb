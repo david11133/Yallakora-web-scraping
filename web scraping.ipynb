{
 "cells": [
  {
   "cell_type": "code",
   "execution_count": 1,
   "id": "7b4bcced-8d59-49a0-ba29-ff2156cfb4d5",
   "metadata": {
    "tags": []
   },
   "outputs": [],
   "source": [
    "import requests\n",
    "from bs4 import BeautifulSoup\n",
    "import csv\n",
    "from itertools import zip_longest\n"
   ]
  },
  {
   "cell_type": "code",
   "execution_count": 2,
   "id": "1c3b775f-25a5-431c-be65-4e9274181048",
   "metadata": {
    "tags": []
   },
   "outputs": [],
   "source": [
    "import datetime"
   ]
  },
  {
   "cell_type": "code",
   "execution_count": 3,
   "id": "c773a3a1-55d3-4db2-8d32-1e4df8eb3f5d",
   "metadata": {
    "tags": []
   },
   "outputs": [
    {
     "name": "stdout",
     "output_type": "stream",
     "text": [
      "03/15/2023\n"
     ]
    }
   ],
   "source": [
    "today = datetime.datetime.today()\n",
    "print(datetime.datetime.strftime(today,'%m/%d/%Y'))"
   ]
  },
  {
   "cell_type": "code",
   "execution_count": 4,
   "id": "e4ebf4e5-5f9c-41f4-a7d1-1b03e02cab15",
   "metadata": {
    "tags": []
   },
   "outputs": [],
   "source": [
    "date = datetime.datetime.strftime(today,'%m/%d/%Y')"
   ]
  },
  {
   "cell_type": "code",
   "execution_count": 29,
   "id": "5a1bd363-052f-44cc-9822-6978c1a6997d",
   "metadata": {},
   "outputs": [],
   "source": [
    "page = requests.get(f'https://www.yallakora.com/match-center?date={date}')"
   ]
  },
  {
   "cell_type": "code",
   "execution_count": 30,
   "id": "4363d72b-3cde-4220-8ff1-96463a2c0f29",
   "metadata": {
    "tags": []
   },
   "outputs": [],
   "source": [
    "def main(page):    \n",
    "    src = page.content\n",
    "    soup = BeautifulSoup(src, 'lxml')\n",
    "    details = []\n",
    "    \n",
    "    champs = soup.find_all('div', {'class':'matchCard'}) ##2783 matchCard matchesList\n",
    "    \n",
    "    def get_info(champs):\n",
    "        champ_title = champs.contents[1].find('h2').text.strip()\n",
    "        all_games = champs.contents[3].find_all('li')\n",
    "        num_of_game = len(all_games)\n",
    "        \n",
    "        #print(num_of_game)\n",
    "    ### \n",
    "        for i in range(num_of_game):\n",
    "            # get teams nmaes\n",
    "            teamA = all_games[i].find('div',{'class':'teamA'}).text.strip()\n",
    "            teamB = all_games[i].find('div',{'class':'teamB'}).text.strip()\n",
    "            \n",
    "            # get score\n",
    "            game_result = all_games[i].find('div', {'class':'MResult'}).find_all('span', {'class':'score'})\n",
    "            score = f\"{game_result[0].text.strip()} - {game_result[1].text.strip()}\"\n",
    "            \n",
    "            #get game time \n",
    "            game_time = all_games[i].find('div', {'class':'MResult'}).find('span', {'class':'time'}).text.strip()\n",
    "            \n",
    "            #add info to details[]\n",
    "            details.append({\"اسم البطولة\":champ_title, \"الفريق الأول\":teamA, \"النتيجة\":score, \"الفريق الثاني\":teamB, \"ميعاد المبارة\":game_time})\n",
    "               \n",
    "    ###\n",
    "    for i in range(len(champs)):\n",
    "        get_info(champs[i])\n",
    "        \n",
    "    keys = details[0].keys()\n",
    "    \n",
    "    with open (\"yallakora.csv\", \"w\", encoding=\"utf-8\") as file:\n",
    "        dictw = csv.DictWriter(file, keys)\n",
    "        dictw.writeheader()\n",
    "        dictw.writerows(details)"
   ]
  },
  {
   "cell_type": "code",
   "execution_count": 31,
   "id": "582e15d9-5172-4b33-9a57-676e922a4ace",
   "metadata": {
    "tags": []
   },
   "outputs": [],
   "source": [
    "main(page)"
   ]
  },
  {
   "cell_type": "code",
   "execution_count": null,
   "id": "bb54f413-0572-414d-8eeb-2aaed3fbf68e",
   "metadata": {},
   "outputs": [],
   "source": []
  }
 ],
 "metadata": {
  "kernelspec": {
   "display_name": "Python 3 (ipykernel)",
   "language": "python",
   "name": "python3"
  },
  "language_info": {
   "codemirror_mode": {
    "name": "ipython",
    "version": 3
   },
   "file_extension": ".py",
   "mimetype": "text/x-python",
   "name": "python",
   "nbconvert_exporter": "python",
   "pygments_lexer": "ipython3",
   "version": "3.11.1"
  }
 },
 "nbformat": 4,
 "nbformat_minor": 5
}
